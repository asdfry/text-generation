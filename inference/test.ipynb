{
 "cells": [
  {
   "cell_type": "code",
   "execution_count": 1,
   "metadata": {},
   "outputs": [],
   "source": [
    "import gc\n",
    "import torch\n",
    "from transformers import AutoTokenizer, AutoModelForCausalLM"
   ]
  },
  {
   "cell_type": "code",
   "execution_count": 2,
   "metadata": {},
   "outputs": [],
   "source": [
    "share = {}"
   ]
  },
  {
   "cell_type": "code",
   "execution_count": 3,
   "metadata": {},
   "outputs": [],
   "source": [
    "# model_name = \"falcon-40b-instruct\"\n",
    "# model_path = f\"/gpfs/user/jsh/infer-large/{model_name}\"\n",
    "\n",
    "# share[\"tokenizer\"] = AutoTokenizer.from_pretrained(model_path)\n",
    "# share[\"model\"] = AutoModelForCausalLM.from_pretrained(\n",
    "#     model_path,\n",
    "#     device_map=\"auto\",\n",
    "#     torch_dtype=torch.float16,\n",
    "#     trust_remote_code=True,\n",
    "# )"
   ]
  },
  {
   "cell_type": "code",
   "execution_count": 4,
   "metadata": {},
   "outputs": [
    {
     "data": {
      "application/vnd.jupyter.widget-view+json": {
       "model_id": "0781229c3e3248b987899962891ece4d",
       "version_major": 2,
       "version_minor": 0
      },
      "text/plain": [
       "Loading checkpoint shards:   0%|          | 0/2 [00:00<?, ?it/s]"
      ]
     },
     "metadata": {},
     "output_type": "display_data"
    }
   ],
   "source": [
    "model_name = \"falcon-7b-instruct\"\n",
    "model_path = f\"/gpfs/user/jsh/infer/{model_name}\"\n",
    "\n",
    "share[\"tokenizer\"] = AutoTokenizer.from_pretrained(model_path)\n",
    "share[\"model\"] = AutoModelForCausalLM.from_pretrained(model_path, trust_remote_code=True).cuda(7)"
   ]
  },
  {
   "cell_type": "code",
   "execution_count": 5,
   "metadata": {},
   "outputs": [
    {
     "name": "stdout",
     "output_type": "stream",
     "text": [
      "25.916015625 GiB\n"
     ]
    }
   ],
   "source": [
    "memories = [torch.cuda.memory_reserved(i) / 1024 ** 3 for i in range(8)]\n",
    "print(f\"{sum(memories)} GiB\")"
   ]
  },
  {
   "cell_type": "code",
   "execution_count": 6,
   "metadata": {},
   "outputs": [
    {
     "data": {
      "text/plain": [
       "tensor([[1562,  304, 2845, 2860,   42]], device='cuda:7')"
      ]
     },
     "execution_count": 6,
     "metadata": {},
     "output_type": "execute_result"
    }
   ],
   "source": [
    "prompt = [\"What is deep learning?\"]\n",
    "inputs = share[\"tokenizer\"](prompt, return_tensors=\"pt\").input_ids.cuda(7)\n",
    "inputs"
   ]
  },
  {
   "cell_type": "code",
   "execution_count": 7,
   "metadata": {},
   "outputs": [
    {
     "name": "stderr",
     "output_type": "stream",
     "text": [
      "/home/jsh/.local/lib/python3.10/site-packages/transformers/generation/utils.py:1353: UserWarning: You have modified the pretrained model configuration to control generation. This is a deprecated strategy to control generation and will be removed soon, in a future version. Please use a generation configuration file (see https://huggingface.co/docs/transformers/main_classes/text_generation )\n",
      "  warnings.warn(\n",
      "The attention mask and the pad token id were not set. As a consequence, you may observe unexpected behavior. Please pass your input's `attention_mask` to obtain reliable results.\n",
      "Setting `pad_token_id` to `eos_token_id`:11 for open-end generation.\n"
     ]
    },
    {
     "name": "stdout",
     "output_type": "stream",
     "text": [
      "26.2734375 GiB\n"
     ]
    }
   ],
   "source": [
    "total_memory = 0\n",
    "outputs = share[\"model\"].generate(\n",
    "    inputs,\n",
    "    do_sample=True,\n",
    "    top_k=50,\n",
    "    top_p=0.92,\n",
    "    min_length=20,\n",
    "    max_length=200,\n",
    "    temperature=0.9,\n",
    "    repetition_penalty=1.5,\n",
    "    no_repeat_ngram_size=3,\n",
    ")\n",
    "\n",
    "sentences = share[\"tokenizer\"].batch_decode(outputs, skip_special_tokens=True)\n",
    "memories = [torch.cuda.memory_reserved(i) / 1024 ** 3 for i in range(8)]\n",
    "print(f\"{sum(memories)} GiB\")"
   ]
  },
  {
   "cell_type": "code",
   "execution_count": 8,
   "metadata": {},
   "outputs": [
    {
     "name": "stdout",
     "output_type": "stream",
     "text": [
      "25.951171875 GiB\n"
     ]
    }
   ],
   "source": [
    "torch.cuda.empty_cache()\n",
    "memories = [torch.cuda.memory_reserved(i) / 1024 ** 3 for i in range(8)]\n",
    "print(f\"{sum(memories)} GiB\")"
   ]
  },
  {
   "cell_type": "code",
   "execution_count": 9,
   "metadata": {},
   "outputs": [
    {
     "name": "stdout",
     "output_type": "stream",
     "text": [
      "0.03515625 GiB\n"
     ]
    }
   ],
   "source": [
    "share[\"model\"].cpu()\n",
    "share.clear()\n",
    "gc.collect()\n",
    "torch.cuda.empty_cache()\n",
    "memories = [torch.cuda.memory_reserved(i) / 1024 ** 3 for i in range(8)]\n",
    "print(f\"{sum(memories)} GiB\")"
   ]
  },
  {
   "cell_type": "code",
   "execution_count": 1,
   "metadata": {},
   "outputs": [],
   "source": [
    "import requests\n",
    "\n",
    "port = 1040"
   ]
  },
  {
   "cell_type": "code",
   "execution_count": 2,
   "metadata": {},
   "outputs": [],
   "source": [
    "model_name = \"falcon-40b-instruct\""
   ]
  },
  {
   "cell_type": "code",
   "execution_count": 3,
   "metadata": {},
   "outputs": [
    {
     "data": {
      "text/plain": [
       "{'elapsed_time': 84.11809825897217, 'used_memory': 77.9375}"
      ]
     },
     "execution_count": 3,
     "metadata": {},
     "output_type": "execute_result"
    }
   ],
   "source": [
    "url = f\"http://127.0.0.1:{port}/load-model-large\"\n",
    "rs = requests.post(url, json={\"name\": model_name})\n",
    "rs.json()"
   ]
  },
  {
   "cell_type": "code",
   "execution_count": 4,
   "metadata": {},
   "outputs": [
    {
     "data": {
      "text/plain": [
       "{'elapsed_time': 17.167015552520752, 'used_memory': 78.693359375}"
      ]
     },
     "execution_count": 4,
     "metadata": {},
     "output_type": "execute_result"
    }
   ],
   "source": [
    "url = f\"http://127.0.0.1:{port}/infer-large\"\n",
    "rs = requests.post(url, json={\"sentences\": [\"What is deep learning?\"]})\n",
    "rs.json()"
   ]
  },
  {
   "cell_type": "code",
   "execution_count": 5,
   "metadata": {},
   "outputs": [
    {
     "data": {
      "text/plain": [
       "{'elapsed_time': 43.24610185623169, 'used_memory': 1.127773430198431e-09}"
      ]
     },
     "execution_count": 5,
     "metadata": {},
     "output_type": "execute_result"
    }
   ],
   "source": [
    "url = f\"http://127.0.0.1:{port}/unload-model-large\"\n",
    "rs = requests.post(url, json={\"name\": model_name})\n",
    "rs.json()"
   ]
  },
  {
   "cell_type": "code",
   "execution_count": 6,
   "metadata": {},
   "outputs": [
    {
     "data": {
      "text/plain": [
       "{'elapsed_time': 70.33183932304382, 'used_memory': 78.24218749887223}"
      ]
     },
     "execution_count": 6,
     "metadata": {},
     "output_type": "execute_result"
    }
   ],
   "source": [
    "url = f\"http://127.0.0.1:{port}/load-model-large\"\n",
    "rs = requests.post(url, json={\"name\": model_name})\n",
    "rs.json()"
   ]
  },
  {
   "cell_type": "code",
   "execution_count": 7,
   "metadata": {},
   "outputs": [
    {
     "data": {
      "text/plain": [
       "{'elapsed_time': 6.915565013885498, 'used_memory': 79.34960937387223}"
      ]
     },
     "execution_count": 7,
     "metadata": {},
     "output_type": "execute_result"
    }
   ],
   "source": [
    "url = f\"http://127.0.0.1:{port}/infer-large\"\n",
    "rs = requests.post(url, json={\"sentences\": [\"What is deep learning?\"]})\n",
    "rs.json()"
   ]
  },
  {
   "cell_type": "code",
   "execution_count": 8,
   "metadata": {},
   "outputs": [
    {
     "data": {
      "text/plain": [
       "{'elapsed_time': 44.58307361602783, 'used_memory': 1.127773430198431e-09}"
      ]
     },
     "execution_count": 8,
     "metadata": {},
     "output_type": "execute_result"
    }
   ],
   "source": [
    "url = f\"http://127.0.0.1:{port}/unload-model-large\"\n",
    "rs = requests.post(url, json={\"name\": model_name})\n",
    "rs.json()"
   ]
  },
  {
   "cell_type": "code",
   "execution_count": 9,
   "metadata": {},
   "outputs": [],
   "source": [
    "model_name = \"llama-30b-instruct\""
   ]
  },
  {
   "cell_type": "code",
   "execution_count": 10,
   "metadata": {},
   "outputs": [
    {
     "data": {
      "text/plain": [
       "{'elapsed_time': 56.409790992736816, 'used_memory': 61.35742187387223}"
      ]
     },
     "execution_count": 10,
     "metadata": {},
     "output_type": "execute_result"
    }
   ],
   "source": [
    "url = f\"http://127.0.0.1:{port}/load-model-large\"\n",
    "rs = requests.post(url, json={\"name\": model_name})\n",
    "rs.json()"
   ]
  },
  {
   "cell_type": "code",
   "execution_count": 11,
   "metadata": {},
   "outputs": [
    {
     "data": {
      "text/plain": [
       "{'elapsed_time': 6.706385850906372, 'used_memory': 61.73046874887223}"
      ]
     },
     "execution_count": 11,
     "metadata": {},
     "output_type": "execute_result"
    }
   ],
   "source": [
    "url = f\"http://127.0.0.1:{port}/infer-large\"\n",
    "rs = requests.post(url, json={\"sentences\": [\"What is deep learning?\"]})\n",
    "rs.json()"
   ]
  },
  {
   "cell_type": "code",
   "execution_count": 12,
   "metadata": {},
   "outputs": [
    {
     "data": {
      "text/plain": [
       "{'elapsed_time': 35.39140582084656, 'used_memory': 1.127773430198431e-09}"
      ]
     },
     "execution_count": 12,
     "metadata": {},
     "output_type": "execute_result"
    }
   ],
   "source": [
    "url = f\"http://127.0.0.1:{port}/unload-model-large\"\n",
    "rs = requests.post(url, json={\"name\": model_name})\n",
    "rs.json()"
   ]
  }
 ],
 "metadata": {
  "kernelspec": {
   "display_name": "Python 3",
   "language": "python",
   "name": "python3"
  },
  "language_info": {
   "codemirror_mode": {
    "name": "ipython",
    "version": 3
   },
   "file_extension": ".py",
   "mimetype": "text/x-python",
   "name": "python",
   "nbconvert_exporter": "python",
   "pygments_lexer": "ipython3",
   "version": "3.10.12"
  },
  "orig_nbformat": 4
 },
 "nbformat": 4,
 "nbformat_minor": 2
}
