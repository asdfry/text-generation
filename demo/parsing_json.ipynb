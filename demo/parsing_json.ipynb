{
 "cells": [
  {
   "cell_type": "code",
   "execution_count": 3,
   "metadata": {},
   "outputs": [],
   "source": [
    "import json\n",
    "from glob import glob"
   ]
  },
  {
   "cell_type": "code",
   "execution_count": 4,
   "metadata": {},
   "outputs": [
    {
     "name": "stdout",
     "output_type": "stream",
     "text": [
      "cpu_op: 68.05s\n",
      "user_annotation: 3.471s\n",
      "cuda_runtime: 21.989s\n",
      "gpu_memcpy: 0.328s\n",
      "kernel: 21.49s\n",
      "gpu_memset: 0.011s\n",
      "Trace: 23.694s\n",
      "35.772597 \n",
      "\n"
     ]
    }
   ],
   "source": [
    "traces = glob(\"./logs/bigscience/bloom-1b1/**/trace.json\", recursive=True)\n",
    "\n",
    "for trace in traces:\n",
    "    with open(trace) as f:\n",
    "        json_dict = json.load(f)\n",
    "\n",
    "    total_dur = {}\n",
    "    cpu_op = {}\n",
    "\n",
    "    for event in json_dict[\"traceEvents\"]:\n",
    "        if not \"cat\" in event or not \"dur\" in event:\n",
    "            continue\n",
    "        if event[\"cat\"] in total_dur:\n",
    "            total_dur[event[\"cat\"]] += event[\"dur\"]\n",
    "        else:\n",
    "            total_dur[event[\"cat\"]] = event[\"dur\"]\n",
    "        if \"cpu_op\" == event[\"cat\"]:\n",
    "            if event[\"name\"] in cpu_op:\n",
    "                cpu_op[event[\"name\"]][\"cnt\"] += 1\n",
    "                cpu_op[event[\"name\"]][\"dur\"] += event[\"dur\"]\n",
    "            else:\n",
    "                cpu_op[event[\"name\"]] = {\"cnt\": 1, \"dur\": event[\"dur\"]}\n",
    "    \n",
    "    for k, v in total_dur.items():\n",
    "        print(f\"{k}: {round(v / 10 ** 6, 3)}s\")\n",
    "\n",
    "    aten_dur = 0\n",
    "    for i in sorted(cpu_op.items(), key=lambda i: i[1][\"cnt\"], reverse=True):\n",
    "        # print(i)\n",
    "        if \"aten::\" in i[0]:\n",
    "            aten_dur += i[1][\"dur\"]\n",
    "    print(aten_dur / 10 ** 6, \"\\n\")"
   ]
  }
 ],
 "metadata": {
  "kernelspec": {
   "display_name": "Python 3",
   "language": "python",
   "name": "python3"
  },
  "language_info": {
   "codemirror_mode": {
    "name": "ipython",
    "version": 3
   },
   "file_extension": ".py",
   "mimetype": "text/x-python",
   "name": "python",
   "nbconvert_exporter": "python",
   "pygments_lexer": "ipython3",
   "version": "3.10.12"
  }
 },
 "nbformat": 4,
 "nbformat_minor": 2
}
