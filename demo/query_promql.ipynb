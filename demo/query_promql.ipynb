{
 "cells": [
  {
   "cell_type": "code",
   "execution_count": 2,
   "metadata": {},
   "outputs": [],
   "source": [
    "import requests\n",
    "from pprint import pprint"
   ]
  },
  {
   "cell_type": "code",
   "execution_count": 3,
   "metadata": {},
   "outputs": [],
   "source": [
    "prometheus_url = \"http://101.202.0.9:30003/api/v1/query\""
   ]
  },
  {
   "cell_type": "code",
   "execution_count": 4,
   "metadata": {},
   "outputs": [],
   "source": [
    "def prometheus_query(query):\n",
    "    params = {\"query\": query}\n",
    "\n",
    "    response = requests.get(prometheus_url, params=params)\n",
    "\n",
    "    if response.status_code == 200:\n",
    "        data = response.json()\n",
    "        return data\n",
    "    else:\n",
    "        print(f\"Failed to query Prometheus. Status code: {response.status_code}\")\n",
    "        return None"
   ]
  },
  {
   "cell_type": "markdown",
   "metadata": {},
   "source": [
    "### CPU"
   ]
  },
  {
   "cell_type": "code",
   "execution_count": 5,
   "metadata": {},
   "outputs": [
    {
     "name": "stdout",
     "output_type": "stream",
     "text": [
      "CPU Utilization: 2.885624999937093 %\n",
      "CPU Memory: 14700978176 Byte\n"
     ]
    }
   ],
   "source": [
    "node_address = \"192.168.10.5:9100\"\n",
    "\n",
    "query = f'100 - avg(rate(node_cpu_seconds_total{{mode=\"idle\", instance=\"{node_address}\"}}[30s])) * 100'\n",
    "result = prometheus_query(query)\n",
    "print(f\"CPU Utilization: {result['data']['result'][0]['value'][1]} %\")\n",
    "\n",
    "query = f'node_memory_MemTotal_bytes{{instance=\"{node_address}\"}} - node_memory_MemAvailable_bytes{{instance=\"{node_address}\"}}'\n",
    "result = prometheus_query(query)\n",
    "print(f\"CPU Memory: {int(result['data']['result'][0]['value'][1])} Byte\")"
   ]
  },
  {
   "cell_type": "markdown",
   "metadata": {},
   "source": [
    "### GPU"
   ]
  },
  {
   "cell_type": "code",
   "execution_count": 6,
   "metadata": {},
   "outputs": [
    {
     "name": "stdout",
     "output_type": "stream",
     "text": [
      "GPU Utilization\n",
      "  GPU-845e7463-ab58-fbda-345e-2ead5245c75e: 0 %\n",
      "  GPU-f3a9b66f-587a-ed2b-40ac-73b79dc0505b: 0 %\n",
      "GPU Memory\n",
      "  GPU-845e7463-ab58-fbda-345e-2ead5245c75e: 0 %\n",
      "  GPU-f3a9b66f-587a-ed2b-40ac-73b79dc0505b: 0 %\n",
      "GPU Power\n",
      "  GPU-845e7463-ab58-fbda-345e-2ead5245c75e: 9.069 W\n",
      "  GPU-f3a9b66f-587a-ed2b-40ac-73b79dc0505b: 9.069 W\n",
      "GPU Temperature\n",
      "  GPU-845e7463-ab58-fbda-345e-2ead5245c75e: 30 C\n",
      "  GPU-f3a9b66f-587a-ed2b-40ac-73b79dc0505b: 28 C\n"
     ]
    }
   ],
   "source": [
    "hostname = \"k8s-node-3\"\n",
    "\n",
    "query = f'DCGM_FI_DEV_GPU_UTIL{{Hostname=\"{hostname}\"}}'\n",
    "result = prometheus_query(query)\n",
    "print(\"GPU Utilization\")\n",
    "for i in result[\"data\"][\"result\"]:\n",
    "    print(f\"  {i['metric']['UUID']}: {i['value'][1]} %\")\n",
    "\n",
    "query = f'DCGM_FI_DEV_MEM_COPY_UTIL{{Hostname=\"{hostname}\"}}'\n",
    "result = prometheus_query(query)\n",
    "print(\"GPU Memory\")\n",
    "for i in result[\"data\"][\"result\"]:\n",
    "    print(f\"  {i['metric']['UUID']}: {i['value'][1]} %\")\n",
    "\n",
    "query = f'DCGM_FI_DEV_POWER_USAGE{{Hostname=\"{hostname}\"}}'\n",
    "result = prometheus_query(query)\n",
    "print(\"GPU Power\")\n",
    "for i in result[\"data\"][\"result\"]:\n",
    "    print(f\"  {i['metric']['UUID']}: {i['value'][1]} W\")\n",
    "\n",
    "query = f'DCGM_FI_DEV_GPU_TEMP{{Hostname=\"{hostname}\"}}'\n",
    "result = prometheus_query(query)\n",
    "print(\"GPU Temperature\")\n",
    "for i in result[\"data\"][\"result\"]:\n",
    "    print(f\"  {i['metric']['UUID']}: {i['value'][1]} C\")"
   ]
  },
  {
   "cell_type": "markdown",
   "metadata": {},
   "source": [
    "### DISK"
   ]
  },
  {
   "cell_type": "code",
   "execution_count": 7,
   "metadata": {},
   "outputs": [
    {
     "name": "stdout",
     "output_type": "stream",
     "text": [
      "Disk Read: 0 Byte\n",
      "Disk Write: 318177.28 Byte\n"
     ]
    }
   ],
   "source": [
    "query = f'rate(node_disk_read_bytes_total{{instance=\"192.168.10.5:9100\",device=\"sda\"}}[30s])'\n",
    "result = prometheus_query(query)\n",
    "print(f\"Disk Read: {result['data']['result'][0]['value'][1]} Byte\")\n",
    "\n",
    "query = f'rate(node_disk_written_bytes_total{{instance=\"192.168.10.5:9100\",device=\"sda\"}}[30s])'\n",
    "result = prometheus_query(query)\n",
    "print(f\"Disk Write: {result['data']['result'][0]['value'][1]} Byte\")"
   ]
  }
 ],
 "metadata": {
  "kernelspec": {
   "display_name": "Python 3",
   "language": "python",
   "name": "python3"
  },
  "language_info": {
   "codemirror_mode": {
    "name": "ipython",
    "version": 3
   },
   "file_extension": ".py",
   "mimetype": "text/x-python",
   "name": "python",
   "nbconvert_exporter": "python",
   "pygments_lexer": "ipython3",
   "version": "3.10.12"
  }
 },
 "nbformat": 4,
 "nbformat_minor": 2
}
