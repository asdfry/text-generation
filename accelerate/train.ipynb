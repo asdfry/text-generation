{
 "cells": [
  {
   "cell_type": "code",
   "execution_count": 1,
   "metadata": {},
   "outputs": [],
   "source": [
    "import torch\n",
    "import evaluate\n",
    "\n",
    "from torch.optim import SGD, AdamW\n",
    "from torch.utils.data import DataLoader\n",
    "from datasets import load_dataset, load_from_disk\n",
    "from transformers import AutoTokenizer, AutoModelForCausalLM"
   ]
  },
  {
   "cell_type": "code",
   "execution_count": 2,
   "metadata": {},
   "outputs": [],
   "source": [
    "# # Migrate online datasets to offline datasets (tldr_news)\n",
    "# dataset_name = \"tldr_news\"\n",
    "# datasets = load_dataset(f\"JulesBelveze/{dataset_name}\")\n",
    "# datasets.save_to_disk(f\"datasets/{dataset_name}\")\n",
    "\n",
    "# # Migrate online datasets to offline datasets (OpenOrca)\n",
    "# dataset_name = \"OpenOrca\"\n",
    "# datasets = load_dataset(f\"Open-Orca/{dataset_name}\")\n",
    "# datasets.save_to_disk(f\"datasets/{dataset_name}\")\n",
    "\n",
    "# Migrate online datasets to offline datasets (RedPajama)\n",
    "# dataset_name = \"RedPajama-Data-V2\"\n",
    "# datasets = load_dataset(f\"togethercomputer/{dataset_name}\", name=\"sample\")\n",
    "# datasets.save_to_disk(f\"datasets/{dataset_name}\")"
   ]
  },
  {
   "cell_type": "code",
   "execution_count": 3,
   "metadata": {},
   "outputs": [],
   "source": [
    "dataset_name = \"tldr\"\n",
    "model_name = \"bigscience/bloom-560m\"\n",
    "\n",
    "if dataset_name == \"tldr\":\n",
    "    dataset_name = \"tldr_news\"\n",
    "    column = \"content\"\n",
    "if dataset_name == \"redp\":\n",
    "    dataset_name = \"RedPajama-Data-V2\"\n",
    "    column = \"raw_content\""
   ]
  },
  {
   "cell_type": "code",
   "execution_count": 4,
   "metadata": {},
   "outputs": [
    {
     "data": {
      "text/plain": [
       "DatasetDict({\n",
       "    train: Dataset({\n",
       "        features: ['headline', 'content', 'category'],\n",
       "        num_rows: 7138\n",
       "    })\n",
       "    test: Dataset({\n",
       "        features: ['headline', 'content', 'category'],\n",
       "        num_rows: 794\n",
       "    })\n",
       "})"
      ]
     },
     "execution_count": 4,
     "metadata": {},
     "output_type": "execute_result"
    }
   ],
   "source": [
    "datasets = load_from_disk(f\"datasets/{dataset_name}\")\n",
    "datasets"
   ]
  },
  {
   "cell_type": "code",
   "execution_count": 5,
   "metadata": {},
   "outputs": [],
   "source": [
    "# Load tokenizer\n",
    "tokenizer = AutoTokenizer.from_pretrained(model_name)\n",
    "tokenizer.pad_token = tokenizer.eos_token\n",
    "\n",
    "\n",
    "def tokenize_function(examples):\n",
    "    result = tokenizer(examples[column], max_length=128, truncation=True, padding=\"max_length\")\n",
    "    result[\"labels\"] = result[\"input_ids\"].copy()\n",
    "    return result\n",
    "\n",
    "\n",
    "# Tokenize\n",
    "# before tokenize: ['headline', 'content', 'category']\n",
    "# after tokenize: ['input_ids', 'attention_mask', 'labels']\n",
    "tokenized_datasets = datasets.map(\n",
    "    tokenize_function,\n",
    "    batched=True,\n",
    "    num_proc=32,\n",
    "    remove_columns=datasets[\"train\"].column_names,  # remove columns that are not required for model input\n",
    ")\n",
    "tokenized_datasets.set_format(\"torch\")"
   ]
  },
  {
   "cell_type": "code",
   "execution_count": 6,
   "metadata": {},
   "outputs": [],
   "source": [
    "dataset_size = 0.3\n",
    "batch_size = 64"
   ]
  },
  {
   "cell_type": "code",
   "execution_count": 7,
   "metadata": {},
   "outputs": [],
   "source": [
    "train_dataset = tokenized_datasets[\"train\"].shuffle(seed=77).select(range(int(tokenized_datasets[\"train\"].num_rows * dataset_size)))\n",
    "# valid_dataset = tokenized_datasets[\"test\"].shuffle(seed=77).select(range(int(tokenized_datasets[\"test\"].num_rows * dataset_size)))\n",
    "\n",
    "train_dataloader = DataLoader(train_dataset, shuffle=True, batch_size=batch_size)\n",
    "# valid_dataloader = DataLoader(valid_dataset, batch_size=batch_size)"
   ]
  },
  {
   "cell_type": "code",
   "execution_count": 8,
   "metadata": {},
   "outputs": [
    {
     "data": {
      "text/plain": [
       "BloomForCausalLM(\n",
       "  (transformer): BloomModel(\n",
       "    (word_embeddings): Embedding(250880, 1024)\n",
       "    (word_embeddings_layernorm): LayerNorm((1024,), eps=1e-05, elementwise_affine=True)\n",
       "    (h): ModuleList(\n",
       "      (0-23): 24 x BloomBlock(\n",
       "        (input_layernorm): LayerNorm((1024,), eps=1e-05, elementwise_affine=True)\n",
       "        (self_attention): BloomAttention(\n",
       "          (query_key_value): Linear(in_features=1024, out_features=3072, bias=True)\n",
       "          (dense): Linear(in_features=1024, out_features=1024, bias=True)\n",
       "          (attention_dropout): Dropout(p=0.0, inplace=False)\n",
       "        )\n",
       "        (post_attention_layernorm): LayerNorm((1024,), eps=1e-05, elementwise_affine=True)\n",
       "        (mlp): BloomMLP(\n",
       "          (dense_h_to_4h): Linear(in_features=1024, out_features=4096, bias=True)\n",
       "          (gelu_impl): BloomGelu()\n",
       "          (dense_4h_to_h): Linear(in_features=4096, out_features=1024, bias=True)\n",
       "        )\n",
       "      )\n",
       "    )\n",
       "    (ln_f): LayerNorm((1024,), eps=1e-05, elementwise_affine=True)\n",
       "  )\n",
       "  (lm_head): Linear(in_features=1024, out_features=250880, bias=False)\n",
       ")"
      ]
     },
     "execution_count": 8,
     "metadata": {},
     "output_type": "execute_result"
    }
   ],
   "source": [
    "device = torch.device(\"cuda\") if torch.cuda.is_available() else torch.device(\"cpu\")\n",
    "model = AutoModelForCausalLM.from_pretrained(model_name)\n",
    "model.to(device)"
   ]
  },
  {
   "cell_type": "code",
   "execution_count": 9,
   "metadata": {},
   "outputs": [
    {
     "data": {
      "text/plain": [
       "AdamW (\n",
       "Parameter Group 0\n",
       "    amsgrad: False\n",
       "    betas: (0.9, 0.999)\n",
       "    capturable: False\n",
       "    differentiable: False\n",
       "    eps: 1e-08\n",
       "    foreach: None\n",
       "    fused: None\n",
       "    lr: 0.001\n",
       "    maximize: False\n",
       "    weight_decay: 0.01\n",
       ")"
      ]
     },
     "execution_count": 9,
     "metadata": {},
     "output_type": "execute_result"
    }
   ],
   "source": [
    "optimizers = [\"sgd\", \"adamw\"]\n",
    "idx = 1\n",
    "\n",
    "# Set optimizer\n",
    "if optimizers[idx] == \"sgd\":\n",
    "    optimizer = SGD(model.parameters(), lr=1e-3)\n",
    "elif optimizers[idx] == \"adamw\":\n",
    "    optimizer = AdamW(model.parameters(), lr=1e-3)\n",
    "\n",
    "optimizer"
   ]
  },
  {
   "cell_type": "code",
   "execution_count": 10,
   "metadata": {},
   "outputs": [
    {
     "name": "stdout",
     "output_type": "stream",
     "text": [
      "[epoch 1] train step: 1/34, loss: 3.724057674407959\n",
      "[epoch 1] train step: 2/34, loss: 31.235414505004883\n",
      "[epoch 1] train step: 3/34, loss: 33.35737609863281\n",
      "[epoch 1] train step: 4/34, loss: 35.97190856933594\n",
      "[epoch 1] train step: 5/34, loss: 35.574134826660156\n",
      "[epoch 1] train step: 6/34, loss: 33.82701873779297\n",
      "[epoch 1] train step: 7/34, loss: 34.94261932373047\n",
      "[epoch 1] train step: 8/34, loss: 34.501922607421875\n",
      "[epoch 1] train step: 9/34, loss: 34.4437255859375\n",
      "[epoch 1] train step: 10/34, loss: 34.42020797729492\n"
     ]
    }
   ],
   "source": [
    "model.train()\n",
    "total_loss = 0\n",
    "\n",
    "for step, batch in enumerate(train_dataloader):\n",
    "    batch = {k: v.to(device) for k, v in batch.items()}\n",
    "    outputs = model(**batch)\n",
    "    loss = outputs.loss\n",
    "    total_loss += loss\n",
    "    loss.backward()\n",
    "    optimizer.step()\n",
    "    optimizer.zero_grad()\n",
    "    print(f\"[epoch 1] train step: {step + 1}/{len(train_dataloader)}, loss: {total_loss / (step + 1)}\")\n",
    "    if step == 9:\n",
    "        break"
   ]
  },
  {
   "cell_type": "code",
   "execution_count": null,
   "metadata": {},
   "outputs": [],
   "source": [
    "num_epochs = 1\n",
    "\n",
    "with torch.profiler.profile(with_stack=True) as prof:\n",
    "    for epoch in range(num_epochs):\n",
    "        metric = evaluate.load(\"perplexity\")\n",
    "\n",
    "        model.train()\n",
    "        loss_per_epoch = 0\n",
    "        for step, batch in enumerate(train_dataloader):\n",
    "            batch = {k: v.to(device) for k, v in batch.items()}\n",
    "            outputs = model(**batch)\n",
    "            loss = outputs.loss\n",
    "            loss_per_epoch += loss\n",
    "            loss.backward()\n",
    "            optimizer.step()\n",
    "            optimizer.zero_grad()\n",
    "            print(f\"[epoch {epoch+1}] train step: {step + 1}/{len(train_dataloader)}, loss: {loss_per_epoch / (step + 1)}\")\n",
    "\n",
    "        model.eval()\n",
    "        loss_per_epoch = 0\n",
    "        for step, batch in enumerate(valid_dataloader):\n",
    "            batch = {k: v.to(device) for k, v in batch.items()}\n",
    "            with torch.no_grad():\n",
    "                outputs = model(**batch)\n",
    "            loss_per_epoch += outputs.loss\n",
    "            print(f\"[epoch {epoch+1}] valid step: {step + 1}/{len(valid_dataloader)}, loss: {loss_per_epoch / (step + 1)}\")\n",
    "            logits = outputs.logits\n",
    "            predictions = torch.argmax(logits, dim=-1)\n",
    "            metric.add_batch(predictions=tokenizer.batch_decode(predictions))\n",
    "\n",
    "        metric = metric.compute(model_id=model_name)\n",
    "        print(f\"[epoch {epoch+1}] mean perplexity: {metric['mean_perplexity']}\")"
   ]
  },
  {
   "cell_type": "code",
   "execution_count": null,
   "metadata": {},
   "outputs": [],
   "source": [
    "print(prof.key_averages(group_by_stack_n=3).table(sort_by='self_cpu_time_total', row_limit=15))"
   ]
  }
 ],
 "metadata": {
  "kernelspec": {
   "display_name": "base",
   "language": "python",
   "name": "python3"
  },
  "language_info": {
   "codemirror_mode": {
    "name": "ipython",
    "version": 3
   },
   "file_extension": ".py",
   "mimetype": "text/x-python",
   "name": "python",
   "nbconvert_exporter": "python",
   "pygments_lexer": "ipython3",
   "version": "3.10.12"
  },
  "orig_nbformat": 4
 },
 "nbformat": 4,
 "nbformat_minor": 2
}
