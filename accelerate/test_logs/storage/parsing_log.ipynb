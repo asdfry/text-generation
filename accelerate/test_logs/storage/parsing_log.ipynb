{
 "cells": [
  {
   "cell_type": "code",
   "execution_count": 5,
   "metadata": {},
   "outputs": [],
   "source": [
    "import re\n",
    "import pandas as pd\n",
    "import plotly.express as px\n",
    "\n",
    "from glob import glob"
   ]
  },
  {
   "cell_type": "code",
   "execution_count": 6,
   "metadata": {},
   "outputs": [],
   "source": [
    "pt_time = re.compile(r\"\\[epoch (\\d)\\] elapsed time\\: (\\d+\\.\\d+) sec\")"
   ]
  },
  {
   "cell_type": "code",
   "execution_count": 7,
   "metadata": {},
   "outputs": [],
   "source": [
    "logs = sorted(glob(\"./**/**/torch.log\"))\n",
    "rows = []\n",
    "\n",
    "for log in logs:\n",
    "    with open(log, \"r\") as f:\n",
    "        lines = f.readlines()\n",
    "\n",
    "    time_per_epoch = {1: 0, 2: 0, 3: 0, 4: 0, 5: 0}\n",
    "    for line in lines:\n",
    "        sh_time = pt_time.search(line)\n",
    "        if sh_time:\n",
    "            time_per_epoch[int(sh_time.group(1))] = float(sh_time.group(2))\n",
    "\n",
    "    rows.append(\n",
    "        {\n",
    "            \"model\": log.split(\"/\")[1],\n",
    "            \"gpus\": \"H100 * 8\",\n",
    "            \"storage\": log.split(\"-\")[-1].split(\"/\")[0],\n",
    "            \"epoch_1\": round(time_per_epoch[1], 2),\n",
    "            \"epoch_2\": round(time_per_epoch[2], 2),\n",
    "            \"epoch_3\": round(time_per_epoch[3], 2),\n",
    "            \"epoch_4\": round(time_per_epoch[4], 2),\n",
    "            \"epoch_5\": round(time_per_epoch[5], 2),\n",
    "        }\n",
    "    )"
   ]
  },
  {
   "cell_type": "code",
   "execution_count": 13,
   "metadata": {},
   "outputs": [
    {
     "data": {
      "text/html": [
       "<div>\n",
       "<style scoped>\n",
       "    .dataframe tbody tr th:only-of-type {\n",
       "        vertical-align: middle;\n",
       "    }\n",
       "\n",
       "    .dataframe tbody tr th {\n",
       "        vertical-align: top;\n",
       "    }\n",
       "\n",
       "    .dataframe thead th {\n",
       "        text-align: right;\n",
       "    }\n",
       "</style>\n",
       "<table border=\"1\" class=\"dataframe\">\n",
       "  <thead>\n",
       "    <tr style=\"text-align: right;\">\n",
       "      <th></th>\n",
       "      <th>model</th>\n",
       "      <th>gpus</th>\n",
       "      <th>storage</th>\n",
       "      <th>epoch_2</th>\n",
       "      <th>epoch_3</th>\n",
       "      <th>epoch_4</th>\n",
       "      <th>epoch_5</th>\n",
       "      <th>mean</th>\n",
       "      <th>standard_deviation</th>\n",
       "    </tr>\n",
       "  </thead>\n",
       "  <tbody>\n",
       "    <tr>\n",
       "      <th>0</th>\n",
       "      <td>Llama-2-13b-chat-hf</td>\n",
       "      <td>H100 * 8</td>\n",
       "      <td>gpfs</td>\n",
       "      <td>31.16</td>\n",
       "      <td>31.14</td>\n",
       "      <td>31.04</td>\n",
       "      <td>31.05</td>\n",
       "      <td>31.10</td>\n",
       "      <td>0.06</td>\n",
       "    </tr>\n",
       "    <tr>\n",
       "      <th>1</th>\n",
       "      <td>Llama-2-13b-chat-hf</td>\n",
       "      <td>H100 * 8</td>\n",
       "      <td>ontap</td>\n",
       "      <td>31.09</td>\n",
       "      <td>31.10</td>\n",
       "      <td>30.98</td>\n",
       "      <td>31.03</td>\n",
       "      <td>31.05</td>\n",
       "      <td>0.06</td>\n",
       "    </tr>\n",
       "  </tbody>\n",
       "</table>\n",
       "</div>"
      ],
      "text/plain": [
       "                 model      gpus storage  epoch_2  epoch_3  epoch_4  epoch_5  \\\n",
       "0  Llama-2-13b-chat-hf  H100 * 8    gpfs    31.16    31.14    31.04    31.05   \n",
       "1  Llama-2-13b-chat-hf  H100 * 8   ontap    31.09    31.10    30.98    31.03   \n",
       "\n",
       "    mean  standard_deviation  \n",
       "0  31.10                0.06  \n",
       "1  31.05                0.06  "
      ]
     },
     "execution_count": 13,
     "metadata": {},
     "output_type": "execute_result"
    }
   ],
   "source": [
    "df = pd.DataFrame(rows)\n",
    "df.sort_values(by=[\"model\", \"gpus\"], ascending=[False, True], inplace=True)\n",
    "df.reset_index(drop=True, inplace=True)\n",
    "df.drop(columns=\"epoch_1\", inplace=True)\n",
    "df[\"mean\"] = round(df.iloc[:, [3, 4, 5, 6]].mean(axis=1), 2)\n",
    "df[\"standard_deviation\"] = round(df.iloc[:, [3, 4, 5, 6]].std(axis=1), 2)\n",
    "df.to_csv(\"data_storage.csv\", index=False)\n",
    "df"
   ]
  }
 ],
 "metadata": {
  "kernelspec": {
   "display_name": "Python 3",
   "language": "python",
   "name": "python3"
  },
  "language_info": {
   "codemirror_mode": {
    "name": "ipython",
    "version": 3
   },
   "file_extension": ".py",
   "mimetype": "text/x-python",
   "name": "python",
   "nbconvert_exporter": "python",
   "pygments_lexer": "ipython3",
   "version": "3.10.12"
  }
 },
 "nbformat": 4,
 "nbformat_minor": 2
}
