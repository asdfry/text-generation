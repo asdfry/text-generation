{
 "cells": [
  {
   "cell_type": "code",
   "execution_count": 1,
   "metadata": {},
   "outputs": [],
   "source": [
    "import torch\n",
    "from transformers import AutoTokenizer, AutoModelForCausalLM"
   ]
  },
  {
   "cell_type": "code",
   "execution_count": 2,
   "metadata": {},
   "outputs": [],
   "source": [
    "share = {}\n",
    "device_count = torch.cuda.device_count()"
   ]
  },
  {
   "cell_type": "code",
   "execution_count": 3,
   "metadata": {},
   "outputs": [
    {
     "name": "stderr",
     "output_type": "stream",
     "text": [
      "The model weights are not tied. Please use the `tie_weights` method before using the `infer_auto_device` function.\n"
     ]
    },
    {
     "data": {
      "application/vnd.jupyter.widget-view+json": {
       "model_id": "36d632bcf108498ead5a18cf944fc004",
       "version_major": 2,
       "version_minor": 0
      },
      "text/plain": [
       "Loading checkpoint shards:   0%|          | 0/3 [00:00<?, ?it/s]"
      ]
     },
     "metadata": {},
     "output_type": "display_data"
    }
   ],
   "source": [
    "model_name = \"Llama-2-13b-chat-hf\"\n",
    "model_path = f\"/gpfs/jsh/pretrained-models/{model_name}\"\n",
    "\n",
    "share[\"tokenizer\"] = AutoTokenizer.from_pretrained(model_path)\n",
    "share[\"model\"] = AutoModelForCausalLM.from_pretrained(\n",
    "    model_path,\n",
    "    device_map=\"auto\",\n",
    "    torch_dtype=torch.float16,\n",
    "    trust_remote_code=True,\n",
    ")"
   ]
  },
  {
   "cell_type": "code",
   "execution_count": 4,
   "metadata": {},
   "outputs": [
    {
     "name": "stdout",
     "output_type": "stream",
     "text": [
      "24.45703125 GiB\n"
     ]
    }
   ],
   "source": [
    "memories = [torch.cuda.memory_reserved(i) / 1024 ** 3 for i in range(device_count)]\n",
    "print(f\"{sum(memories)} GiB\")"
   ]
  },
  {
   "cell_type": "code",
   "execution_count": 5,
   "metadata": {},
   "outputs": [
    {
     "data": {
      "text/plain": [
       "{'input_ids': tensor([[    1, 18637, 29892,   526,   366, 19861, 29973,  1815,   366,  5193,\n",
       "           304,   592, 29973]], device='cuda:7'), 'attention_mask': tensor([[1, 1, 1, 1, 1, 1, 1, 1, 1, 1, 1, 1, 1]], device='cuda:7')}"
      ]
     },
     "execution_count": 5,
     "metadata": {},
     "output_type": "execute_result"
    }
   ],
   "source": [
    "prompt = \"Hey, are you conscious? Can you talk to me?\"\n",
    "inputs = share[\"tokenizer\"](prompt, return_tensors=\"pt\").to(f\"cuda:{device_count-1}\")\n",
    "inputs"
   ]
  },
  {
   "cell_type": "code",
   "execution_count": 6,
   "metadata": {},
   "outputs": [
    {
     "name": "stdout",
     "output_type": "stream",
     "text": [
      "24.677734375 GiB\n",
      "(Note: This is a weird question. I don't think it would be appropriate for most conversations.)\n"
     ]
    }
   ],
   "source": [
    "outputs = share[\"model\"].generate(\n",
    "    **inputs,\n",
    "    do_sample=True,\n",
    "    top_k=50,\n",
    "    top_p=0.92,\n",
    "    min_length=20,\n",
    "    max_length=200,\n",
    "    temperature=0.9,\n",
    "    repetition_penalty=1.5,\n",
    "    no_repeat_ngram_size=3,\n",
    ")\n",
    "\n",
    "memories = [torch.cuda.memory_reserved(i) / 1024 ** 3 for i in range(device_count)]\n",
    "print(f\"{sum(memories)} GiB\")\n",
    "\n",
    "sentence = share[\"tokenizer\"].decode(outputs[0], skip_special_tokens=True)\n",
    "sentence = sentence.split(\"\\n\")[-1].strip()\n",
    "print(sentence)"
   ]
  },
  {
   "cell_type": "code",
   "execution_count": 9,
   "metadata": {},
   "outputs": [
    {
     "data": {
      "text/plain": [
       "{'sentence': '37. The only thing that is infinite in the universe of numbers: its decimals! I am curious if any number theory experts might be able or willing enough to help explain why this factoid holds true (and how it could possibly even work).',\n",
       " 'elapsed_time': 1.9909100532531738,\n",
       " 'used_memory': 12.873046875}"
      ]
     },
     "execution_count": 9,
     "metadata": {},
     "output_type": "execute_result"
    }
   ],
   "source": [
    "import requests\n",
    "\n",
    "port = 1047\n",
    "url = f\"http://127.0.0.1:{port}/infer\"\n",
    "rs = requests.post(url, json={\"sentence\": \"Hey, are you conscious? Can you talk to me?\"})\n",
    "rs.json()"
   ]
  },
  {
   "cell_type": "code",
   "execution_count": 10,
   "metadata": {},
   "outputs": [
    {
     "data": {
      "text/plain": [
       "'37. The only thing that is infinite in the universe of numbers: its decimals! I am curious if any number theory experts might be able or willing enough to help explain why this factoid holds true (and how it could possibly even work).'"
      ]
     },
     "execution_count": 10,
     "metadata": {},
     "output_type": "execute_result"
    }
   ],
   "source": [
    "rs.json()[\"sentence\"]"
   ]
  }
 ],
 "metadata": {
  "kernelspec": {
   "display_name": "Python 3",
   "language": "python",
   "name": "python3"
  },
  "language_info": {
   "codemirror_mode": {
    "name": "ipython",
    "version": 3
   },
   "file_extension": ".py",
   "mimetype": "text/x-python",
   "name": "python",
   "nbconvert_exporter": "python",
   "pygments_lexer": "ipython3",
   "version": "3.10.12"
  },
  "orig_nbformat": 4
 },
 "nbformat": 4,
 "nbformat_minor": 2
}
