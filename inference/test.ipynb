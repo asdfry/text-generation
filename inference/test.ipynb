{
 "cells": [
  {
   "cell_type": "code",
   "execution_count": null,
   "metadata": {},
   "outputs": [],
   "source": [
    "import torch\n",
    "from transformers import AutoTokenizer, AutoModelForCausalLM"
   ]
  },
  {
   "cell_type": "code",
   "execution_count": null,
   "metadata": {},
   "outputs": [],
   "source": [
    "model_name = \"Llama-2-70b-chat-hf\"\n",
    "model_path = f\"/gpfs/user/jsh/{model_name}\""
   ]
  },
  {
   "cell_type": "code",
   "execution_count": null,
   "metadata": {},
   "outputs": [],
   "source": [
    "tokenizer = AutoTokenizer.from_pretrained(model_path)"
   ]
  },
  {
   "cell_type": "code",
   "execution_count": null,
   "metadata": {},
   "outputs": [],
   "source": [
    "model = AutoModelForCausalLM.from_pretrained(model_path, torch_dtype=torch.float16).cuda(7)\n",
    "\n",
    "f\"{torch.cuda.memory_reserved() / 1024 ** 3} GiB\""
   ]
  },
  {
   "cell_type": "code",
   "execution_count": null,
   "metadata": {},
   "outputs": [],
   "source": [
    "prompt = [\"What is deep learning?\"]\n",
    "inputs = tokenizer(prompt, return_tensors=\"pt\").input_ids.cuda(7)\n",
    "inputs"
   ]
  },
  {
   "cell_type": "code",
   "execution_count": null,
   "metadata": {},
   "outputs": [],
   "source": [
    "for max_token in [1024, 2048, 4096]:\n",
    "    outputs = model.generate(\n",
    "        inputs,\n",
    "        do_sample=True,\n",
    "        top_k=50,\n",
    "        top_p=0.92,\n",
    "        # min_length=10,\n",
    "        # max_length=50,\n",
    "        temperature=0.9,\n",
    "        repetition_penalty=1.5,\n",
    "        no_repeat_ngram_size=3,\n",
    "        max_new_tokens=max_token,\n",
    "    )\n",
    "    sentences = tokenizer.batch_decode(outputs, skip_special_tokens=True)\n",
    "    print(f\"[{i}] {torch.cuda.memory_reserved() / 1024 ** 3} GiB\")\n",
    "    torch.cuda.empty_cache()"
   ]
  }
 ],
 "metadata": {
  "kernelspec": {
   "display_name": "Python 3",
   "language": "python",
   "name": "python3"
  },
  "language_info": {
   "codemirror_mode": {
    "name": "ipython",
    "version": 3
   },
   "file_extension": ".py",
   "mimetype": "text/x-python",
   "name": "python",
   "nbconvert_exporter": "python",
   "pygments_lexer": "ipython3",
   "version": "3.10.12"
  },
  "orig_nbformat": 4
 },
 "nbformat": 4,
 "nbformat_minor": 2
}
