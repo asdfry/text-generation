{
 "cells": [
  {
   "cell_type": "code",
   "execution_count": null,
   "metadata": {},
   "outputs": [],
   "source": [
    "import torch\n",
    "import evaluate\n",
    "\n",
    "from tqdm.auto import tqdm\n",
    "from torch.optim import SGD, AdamW\n",
    "from torch.utils.data import DataLoader\n",
    "from datasets import load_dataset, load_from_disk\n",
    "from transformers import AutoTokenizer, AutoModelForCausalLM, Adafactor"
   ]
  },
  {
   "cell_type": "code",
   "execution_count": null,
   "metadata": {},
   "outputs": [],
   "source": [
    "# Migrate online datasets to offline datasets\n",
    "datasets = load_dataset(\"JulesBelveze/tldr_news\", split=\"train\")\n",
    "datasets = datasets.train_test_split(test_size=0.2)\n",
    "datasets.save_to_disk(\"tldr_news\")"
   ]
  },
  {
   "cell_type": "code",
   "execution_count": null,
   "metadata": {},
   "outputs": [],
   "source": [
    "dataset_name = \"tldr_news\"\n",
    "model_name = \"Llama-2-7b-chat-hf\""
   ]
  },
  {
   "cell_type": "code",
   "execution_count": null,
   "metadata": {},
   "outputs": [],
   "source": [
    "datasets = load_from_disk(dataset_name)\n",
    "datasets"
   ]
  },
  {
   "cell_type": "code",
   "execution_count": null,
   "metadata": {},
   "outputs": [],
   "source": [
    "tokenizer = AutoTokenizer.from_pretrained(model_name)\n",
    "tokenizer.pad_token = tokenizer.eos_token\n",
    "\n",
    "def tokenize_function(examples):\n",
    "    result = tokenizer(examples[\"content\"], max_length=128, truncation=True, padding=\"max_length\")\n",
    "    result[\"labels\"] = result[\"input_ids\"].copy()\n",
    "    return result\n",
    "\n",
    "tokenized_datasets = datasets.map(tokenize_function, batched=True, num_proc=32, remove_columns=datasets[\"train\"].column_names)\n",
    "tokenized_datasets.set_format(\"torch\")\n",
    "tokenized_datasets"
   ]
  },
  {
   "cell_type": "code",
   "execution_count": null,
   "metadata": {},
   "outputs": [],
   "source": [
    "small_train_dataset = tokenized_datasets[\"train\"].shuffle(seed=77).select(range(160 * 4))\n",
    "small_valid_dataset = tokenized_datasets[\"test\"].shuffle(seed=77).select(range(160))"
   ]
  },
  {
   "cell_type": "code",
   "execution_count": null,
   "metadata": {},
   "outputs": [],
   "source": [
    "batch_size = 16\n",
    "train_dataloader = DataLoader(small_train_dataset, shuffle=True, batch_size=batch_size)\n",
    "valid_dataloader = DataLoader(small_valid_dataset, batch_size=batch_size)"
   ]
  },
  {
   "cell_type": "code",
   "execution_count": null,
   "metadata": {},
   "outputs": [],
   "source": [
    "device = torch.device(\"cuda\") if torch.cuda.is_available() else torch.device(\"cpu\")\n",
    "model = AutoModelForCausalLM.from_pretrained(model_name)\n",
    "model.to(device)"
   ]
  },
  {
   "cell_type": "code",
   "execution_count": null,
   "metadata": {},
   "outputs": [],
   "source": [
    "optimizers = [\"sgd\", \"adafactor\", \"adamw\"]\n",
    "optimizer = optimizers[0]\n",
    "\n",
    "# Set optimizer\n",
    "if optimizer == \"sgd\":\n",
    "    optimizer = SGD(model.parameters())\n",
    "elif optimizer == \"adafactor\":\n",
    "    optimizer = Adafactor(model.parameters())\n",
    "elif optimizer == \"adamw\":\n",
    "    optimizer = AdamW(model.parameters())"
   ]
  },
  {
   "cell_type": "code",
   "execution_count": null,
   "metadata": {},
   "outputs": [],
   "source": [
    "num_epochs = 2\n",
    "progress_bar = tqdm(range(num_epochs * (len(train_dataloader) + len(valid_dataloader))))\n",
    "\n",
    "for epoch in range(num_epochs):\n",
    "    metric = evaluate.load(\"perplexity\")\n",
    "\n",
    "    model.train()\n",
    "    loss_per_epoch = 0\n",
    "    for step, batch in enumerate(train_dataloader):\n",
    "        batch = {k: v.to(device) for k, v in batch.items()}\n",
    "        outputs = model(**batch)\n",
    "        loss = outputs.loss\n",
    "        loss_per_epoch += loss\n",
    "        loss.backward()\n",
    "        optimizer.step()\n",
    "        optimizer.zero_grad()\n",
    "        print(f\"[epoch {epoch+1}] train step: {step + 1}/{len(train_dataloader)}, loss: {loss_per_epoch / (step + 1)}\")\n",
    "        progress_bar.update(1)\n",
    "\n",
    "    model.eval()\n",
    "    loss_per_epoch = 0\n",
    "    for step, batch in enumerate(valid_dataloader):\n",
    "        batch = {k: v.to(device) for k, v in batch.items()}\n",
    "        with torch.no_grad():\n",
    "            outputs = model(**batch)\n",
    "        loss_per_epoch += outputs.loss\n",
    "        print(f\"[epoch {epoch+1}] valid step: {step + 1}/{len(valid_dataloader)}, loss: {loss_per_epoch / (step + 1)}\")\n",
    "        logits = outputs.logits\n",
    "        predictions = torch.argmax(logits, dim=-1)\n",
    "        metric.add_batch(predictions=tokenizer.batch_decode(predictions))\n",
    "        progress_bar.update(1)\n",
    "\n",
    "    metric = metric.compute(model_id=model_name, )\n",
    "    print(f\"mean perplexity: {metric[mean_perplexity]}\")\n"
   ]
  }
 ],
 "metadata": {
  "kernelspec": {
   "display_name": "base",
   "language": "python",
   "name": "python3"
  },
  "language_info": {
   "codemirror_mode": {
    "name": "ipython",
    "version": 3
   },
   "file_extension": ".py",
   "mimetype": "text/x-python",
   "name": "python",
   "nbconvert_exporter": "python",
   "pygments_lexer": "ipython3",
   "version": "3.10.12"
  },
  "orig_nbformat": 4
 },
 "nbformat": 4,
 "nbformat_minor": 2
}
