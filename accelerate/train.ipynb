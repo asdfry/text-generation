{
 "cells": [
  {
   "cell_type": "code",
   "execution_count": 1,
   "metadata": {},
   "outputs": [],
   "source": [
    "import torch\n",
    "import evaluate\n",
    "\n",
    "from torch.optim import SGD, AdamW\n",
    "from torch.utils.data import DataLoader\n",
    "from datasets import load_dataset, load_from_disk\n",
    "from transformers import AutoTokenizer, AutoModelForCausalLM"
   ]
  },
  {
   "cell_type": "code",
   "execution_count": 2,
   "metadata": {},
   "outputs": [],
   "source": [
    "# # Migrate online datasets to offline datasets (tldr_news)\n",
    "# dataset_name = \"tldr_news\"\n",
    "# datasets = load_dataset(f\"JulesBelveze/{dataset_name}\")\n",
    "# datasets.save_to_disk(f\"datasets/{dataset_name}\")\n",
    "\n",
    "# # Migrate online datasets to offline datasets (OpenOrca)\n",
    "# dataset_name = \"OpenOrca\"\n",
    "# datasets = load_dataset(f\"Open-Orca/{dataset_name}\")\n",
    "# datasets.save_to_disk(f\"datasets/{dataset_name}\")\n",
    "\n",
    "# Migrate online datasets to offline datasets (RedPajama)\n",
    "# dataset_name = \"RedPajama-Data-V2\"\n",
    "# datasets = load_dataset(f\"togethercomputer/{dataset_name}\", name=\"sample\")\n",
    "# datasets.save_to_disk(f\"datasets/{dataset_name}\")"
   ]
  },
  {
   "cell_type": "code",
   "execution_count": 2,
   "metadata": {},
   "outputs": [],
   "source": [
    "dataset_name = \"RedPajama-Data-V2\"\n",
    "model_name = \"bigscience/bloom-560m\""
   ]
  },
  {
   "cell_type": "code",
   "execution_count": 3,
   "metadata": {},
   "outputs": [
    {
     "data": {
      "text/plain": [
       "DatasetDict({\n",
       "    train: Dataset({\n",
       "        features: ['raw_content', 'doc_id', 'meta', 'quality_signals'],\n",
       "        num_rows: 1050391\n",
       "    })\n",
       "})"
      ]
     },
     "execution_count": 3,
     "metadata": {},
     "output_type": "execute_result"
    }
   ],
   "source": [
    "datasets = load_from_disk(f\"datasets/{dataset_name}\")\n",
    "datasets"
   ]
  },
  {
   "cell_type": "code",
   "execution_count": 4,
   "metadata": {},
   "outputs": [
    {
     "data": {
      "application/vnd.jupyter.widget-view+json": {
       "model_id": "b32d2faba113484d85875955cf86237f",
       "version_major": 2,
       "version_minor": 0
      },
      "text/plain": [
       "Map (num_proc=32):   0%|          | 0/1050391 [00:00<?, ? examples/s]"
      ]
     },
     "metadata": {},
     "output_type": "display_data"
    }
   ],
   "source": [
    "# Load tokenizer\n",
    "tokenizer = AutoTokenizer.from_pretrained(model_name)\n",
    "tokenizer.pad_token = tokenizer.eos_token\n",
    "\n",
    "\n",
    "def tokenize_function(examples):\n",
    "    result = tokenizer(examples[\"raw_content\"], max_length=128, truncation=True, padding=\"max_length\")\n",
    "    result[\"labels\"] = result[\"input_ids\"].copy()\n",
    "    return result\n",
    "\n",
    "\n",
    "# Tokenize\n",
    "# before tokenize: ['headline', 'content', 'category']\n",
    "# after tokenize: ['input_ids', 'attention_mask', 'labels']\n",
    "tokenized_datasets = datasets.map(\n",
    "    tokenize_function,\n",
    "    batched=True,\n",
    "    num_proc=32,\n",
    "    remove_columns=datasets[\"train\"].column_names,  # remove columns that are not required for model input\n",
    ")\n",
    "tokenized_datasets.set_format(\"torch\")"
   ]
  },
  {
   "cell_type": "code",
   "execution_count": 5,
   "metadata": {},
   "outputs": [],
   "source": [
    "dataset_size = 0.3\n",
    "batch_size = 64"
   ]
  },
  {
   "cell_type": "code",
   "execution_count": 7,
   "metadata": {},
   "outputs": [],
   "source": [
    "train_dataset = tokenized_datasets[\"train\"].shuffle(seed=77).select(range(int(tokenized_datasets[\"train\"].num_rows * dataset_size)))\n",
    "# valid_dataset = tokenized_datasets[\"test\"].shuffle(seed=77).select(range(int(tokenized_datasets[\"test\"].num_rows * dataset_size)))\n",
    "\n",
    "train_dataloader = DataLoader(train_dataset, shuffle=True, batch_size=batch_size)\n",
    "# valid_dataloader = DataLoader(valid_dataset, batch_size=batch_size)"
   ]
  },
  {
   "cell_type": "code",
   "execution_count": null,
   "metadata": {},
   "outputs": [],
   "source": [
    "device = torch.device(\"cuda\") if torch.cuda.is_available() else torch.device(\"cpu\")\n",
    "model = AutoModelForCausalLM.from_pretrained(model_name)\n",
    "model.to(device)"
   ]
  },
  {
   "cell_type": "code",
   "execution_count": null,
   "metadata": {},
   "outputs": [],
   "source": [
    "optimizers = [\"sgd\", \"adamw\"]\n",
    "idx = 1\n",
    "\n",
    "# Set optimizer\n",
    "if optimizers[idx] == \"sgd\":\n",
    "    optimizer = SGD(model.parameters(), lr=1e-3)\n",
    "elif optimizers[idx] == \"adamw\":\n",
    "    optimizer = AdamW(model.parameters(), lr=1e-3)\n",
    "\n",
    "optimizer"
   ]
  },
  {
   "cell_type": "code",
   "execution_count": null,
   "metadata": {},
   "outputs": [],
   "source": [
    "num_epochs = 1\n",
    "\n",
    "with torch.profiler.profile(with_stack=True) as prof:\n",
    "    for epoch in range(num_epochs):\n",
    "        metric = evaluate.load(\"perplexity\")\n",
    "\n",
    "        model.train()\n",
    "        loss_per_epoch = 0\n",
    "        for step, batch in enumerate(train_dataloader):\n",
    "            batch = {k: v.to(device) for k, v in batch.items()}\n",
    "            outputs = model(**batch)\n",
    "            loss = outputs.loss\n",
    "            loss_per_epoch += loss\n",
    "            loss.backward()\n",
    "            optimizer.step()\n",
    "            optimizer.zero_grad()\n",
    "            print(f\"[epoch {epoch+1}] train step: {step + 1}/{len(train_dataloader)}, loss: {loss_per_epoch / (step + 1)}\")\n",
    "\n",
    "        model.eval()\n",
    "        loss_per_epoch = 0\n",
    "        for step, batch in enumerate(valid_dataloader):\n",
    "            batch = {k: v.to(device) for k, v in batch.items()}\n",
    "            with torch.no_grad():\n",
    "                outputs = model(**batch)\n",
    "            loss_per_epoch += outputs.loss\n",
    "            print(f\"[epoch {epoch+1}] valid step: {step + 1}/{len(valid_dataloader)}, loss: {loss_per_epoch / (step + 1)}\")\n",
    "            logits = outputs.logits\n",
    "            predictions = torch.argmax(logits, dim=-1)\n",
    "            metric.add_batch(predictions=tokenizer.batch_decode(predictions))\n",
    "\n",
    "        metric = metric.compute(model_id=model_name)\n",
    "        print(f\"[epoch {epoch+1}] mean perplexity: {metric['mean_perplexity']}\")"
   ]
  },
  {
   "cell_type": "code",
   "execution_count": null,
   "metadata": {},
   "outputs": [],
   "source": [
    "print(prof.key_averages(group_by_stack_n=3).table(sort_by='self_cpu_time_total', row_limit=15))"
   ]
  }
 ],
 "metadata": {
  "kernelspec": {
   "display_name": "base",
   "language": "python",
   "name": "python3"
  },
  "language_info": {
   "codemirror_mode": {
    "name": "ipython",
    "version": 3
   },
   "file_extension": ".py",
   "mimetype": "text/x-python",
   "name": "python",
   "nbconvert_exporter": "python",
   "pygments_lexer": "ipython3",
   "version": "3.10.12"
  },
  "orig_nbformat": 4
 },
 "nbformat": 4,
 "nbformat_minor": 2
}
