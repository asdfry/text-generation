{
 "cells": [
  {
   "cell_type": "code",
   "execution_count": 39,
   "metadata": {},
   "outputs": [],
   "source": [
    "import json\n",
    "import time\n",
    "import requests"
   ]
  },
  {
   "cell_type": "code",
   "execution_count": 6,
   "metadata": {},
   "outputs": [],
   "source": [
    "prometheus_url = \"http://101.202.0.9:30003/api/v1/query\"\n",
    "instance=\"192.168.10.5:9100\""
   ]
  },
  {
   "cell_type": "code",
   "execution_count": 3,
   "metadata": {},
   "outputs": [],
   "source": [
    "def prometheus_query(query):\n",
    "    params = {\"query\": query}\n",
    "\n",
    "    response = requests.get(prometheus_url, params=params)\n",
    "\n",
    "    if response.status_code == 200:\n",
    "        data = response.json()\n",
    "        return data\n",
    "    else:\n",
    "        print(f\"Failed to query Prometheus. Status code: {response.status_code}\")\n",
    "        return None"
   ]
  },
  {
   "cell_type": "code",
   "execution_count": null,
   "metadata": {},
   "outputs": [],
   "source": [
    "query_nw = f\"rate(node_network_receive_bytes_total{{instance='{instance}', device!~'^v.*'}}[10s])\"\n",
    "query_ib = f\"rate(node_infiniband_port_data_received_bytes_total{{instance='{instance}', device=~'mlx5_[0-9]'}}[10s])\"\n",
    "\n",
    "with open(\"network.jsonl\", \"a+\") as f:\n",
    "    for _ in range(10):\n",
    "        data_nw = prometheus_query(query_nw)\n",
    "        data_ib = prometheus_query(query_ib)\n",
    "        json.dump(data_nw, f)\n",
    "        f.write(\"\\n\")\n",
    "        json.dump(data_ib, f)\n",
    "        f.write(\"\\n\")\n",
    "        time.sleep(5)"
   ]
  }
 ],
 "metadata": {
  "kernelspec": {
   "display_name": "Python 3",
   "language": "python",
   "name": "python3"
  },
  "language_info": {
   "codemirror_mode": {
    "name": "ipython",
    "version": 3
   },
   "file_extension": ".py",
   "mimetype": "text/x-python",
   "name": "python",
   "nbconvert_exporter": "python",
   "pygments_lexer": "ipython3",
   "version": "3.10.12"
  }
 },
 "nbformat": 4,
 "nbformat_minor": 2
}
