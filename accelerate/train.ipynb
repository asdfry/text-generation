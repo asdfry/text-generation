{
 "cells": [
  {
   "cell_type": "code",
   "execution_count": 1,
   "metadata": {},
   "outputs": [
    {
     "name": "stderr",
     "output_type": "stream",
     "text": [
      "/home/jsh/.local/lib/python3.10/site-packages/tqdm/auto.py:21: TqdmWarning: IProgress not found. Please update jupyter and ipywidgets. See https://ipywidgets.readthedocs.io/en/stable/user_install.html\n",
      "  from .autonotebook import tqdm as notebook_tqdm\n"
     ]
    }
   ],
   "source": [
    "import torch\n",
    "import evaluate\n",
    "\n",
    "from torch.optim import SGD, AdamW\n",
    "from torch.utils.data import DataLoader\n",
    "from datasets import load_dataset, load_from_disk\n",
    "from transformers import AutoTokenizer, AutoModelForCausalLM"
   ]
  },
  {
   "cell_type": "code",
   "execution_count": 2,
   "metadata": {},
   "outputs": [
    {
     "name": "stderr",
     "output_type": "stream",
     "text": [
      "Saving the dataset (1/1 shards): 100%|██████████| 7138/7138 [00:00<00:00, 934657.28 examples/s]\n",
      "Saving the dataset (1/1 shards): 100%|██████████| 794/794 [00:00<00:00, 346687.21 examples/s]\n"
     ]
    }
   ],
   "source": [
    "# Migrate online datasets to offline datasets\n",
    "datasets = load_dataset(\"JulesBelveze/tldr_news\")\n",
    "datasets.save_to_disk(\"tldr_news\")"
   ]
  },
  {
   "cell_type": "code",
   "execution_count": 3,
   "metadata": {},
   "outputs": [],
   "source": [
    "dataset_name = \"tldr_news\"\n",
    "model_name = \"bigscience/bloom-560m\""
   ]
  },
  {
   "cell_type": "code",
   "execution_count": 4,
   "metadata": {},
   "outputs": [
    {
     "data": {
      "text/plain": [
       "DatasetDict({\n",
       "    train: Dataset({\n",
       "        features: ['headline', 'content', 'category'],\n",
       "        num_rows: 7138\n",
       "    })\n",
       "    test: Dataset({\n",
       "        features: ['headline', 'content', 'category'],\n",
       "        num_rows: 794\n",
       "    })\n",
       "})"
      ]
     },
     "execution_count": 4,
     "metadata": {},
     "output_type": "execute_result"
    }
   ],
   "source": [
    "datasets = load_from_disk(dataset_name)\n",
    "datasets"
   ]
  },
  {
   "cell_type": "code",
   "execution_count": 5,
   "metadata": {},
   "outputs": [],
   "source": [
    "# Load tokenizer\n",
    "tokenizer = AutoTokenizer.from_pretrained(model_name)\n",
    "tokenizer.pad_token = tokenizer.eos_token\n",
    "\n",
    "\n",
    "def tokenize_function(examples):\n",
    "    result = tokenizer(examples[\"content\"], max_length=128, truncation=True, padding=\"max_length\")\n",
    "    result[\"labels\"] = result[\"input_ids\"].copy()\n",
    "    return result\n",
    "\n",
    "\n",
    "# Tokenize\n",
    "# before tokenize: ['headline', 'content', 'category']\n",
    "# after tokenize: ['input_ids', 'attention_mask', 'labels']\n",
    "tokenized_datasets = datasets.map(\n",
    "    tokenize_function,\n",
    "    batched=True,\n",
    "    num_proc=2,\n",
    "    remove_columns=datasets[\"train\"].column_names,  # remove columns that are not required for model input\n",
    ")\n",
    "tokenized_datasets.set_format(\"torch\")"
   ]
  },
  {
   "cell_type": "code",
   "execution_count": 6,
   "metadata": {},
   "outputs": [],
   "source": [
    "dataset_size = 0.3\n",
    "batch_size = 64"
   ]
  },
  {
   "cell_type": "code",
   "execution_count": 7,
   "metadata": {},
   "outputs": [],
   "source": [
    "train_dataset = tokenized_datasets[\"train\"].shuffle(seed=77).select(range(int(tokenized_datasets[\"train\"].num_rows * dataset_size)))\n",
    "valid_dataset = tokenized_datasets[\"test\"].shuffle(seed=77).select(range(int(tokenized_datasets[\"test\"].num_rows * dataset_size)))\n",
    "\n",
    "train_dataloader = DataLoader(train_dataset, shuffle=True, batch_size=batch_size)\n",
    "valid_dataloader = DataLoader(valid_dataset, batch_size=batch_size)"
   ]
  },
  {
   "cell_type": "code",
   "execution_count": 8,
   "metadata": {},
   "outputs": [
    {
     "data": {
      "text/plain": [
       "BloomForCausalLM(\n",
       "  (transformer): BloomModel(\n",
       "    (word_embeddings): Embedding(250880, 1024)\n",
       "    (word_embeddings_layernorm): LayerNorm((1024,), eps=1e-05, elementwise_affine=True)\n",
       "    (h): ModuleList(\n",
       "      (0-23): 24 x BloomBlock(\n",
       "        (input_layernorm): LayerNorm((1024,), eps=1e-05, elementwise_affine=True)\n",
       "        (self_attention): BloomAttention(\n",
       "          (query_key_value): Linear(in_features=1024, out_features=3072, bias=True)\n",
       "          (dense): Linear(in_features=1024, out_features=1024, bias=True)\n",
       "          (attention_dropout): Dropout(p=0.0, inplace=False)\n",
       "        )\n",
       "        (post_attention_layernorm): LayerNorm((1024,), eps=1e-05, elementwise_affine=True)\n",
       "        (mlp): BloomMLP(\n",
       "          (dense_h_to_4h): Linear(in_features=1024, out_features=4096, bias=True)\n",
       "          (gelu_impl): BloomGelu()\n",
       "          (dense_4h_to_h): Linear(in_features=4096, out_features=1024, bias=True)\n",
       "        )\n",
       "      )\n",
       "    )\n",
       "    (ln_f): LayerNorm((1024,), eps=1e-05, elementwise_affine=True)\n",
       "  )\n",
       "  (lm_head): Linear(in_features=1024, out_features=250880, bias=False)\n",
       ")"
      ]
     },
     "execution_count": 8,
     "metadata": {},
     "output_type": "execute_result"
    }
   ],
   "source": [
    "device = torch.device(\"cuda\") if torch.cuda.is_available() else torch.device(\"cpu\")\n",
    "model = AutoModelForCausalLM.from_pretrained(model_name)\n",
    "model.to(device)"
   ]
  },
  {
   "cell_type": "code",
   "execution_count": 9,
   "metadata": {},
   "outputs": [
    {
     "data": {
      "text/plain": [
       "AdamW (\n",
       "Parameter Group 0\n",
       "    amsgrad: False\n",
       "    betas: (0.9, 0.999)\n",
       "    capturable: False\n",
       "    differentiable: False\n",
       "    eps: 1e-08\n",
       "    foreach: None\n",
       "    fused: None\n",
       "    lr: 0.001\n",
       "    maximize: False\n",
       "    weight_decay: 0.01\n",
       ")"
      ]
     },
     "execution_count": 9,
     "metadata": {},
     "output_type": "execute_result"
    }
   ],
   "source": [
    "optimizers = [\"sgd\", \"adamw\"]\n",
    "idx = 1\n",
    "\n",
    "# Set optimizer\n",
    "if optimizers[idx] == \"sgd\":\n",
    "    optimizer = SGD(model.parameters(), lr=1e-3)\n",
    "elif optimizers[idx] == \"adamw\":\n",
    "    optimizer = AdamW(model.parameters(), lr=1e-3)\n",
    "\n",
    "optimizer"
   ]
  },
  {
   "cell_type": "code",
   "execution_count": 10,
   "metadata": {},
   "outputs": [
    {
     "name": "stderr",
     "output_type": "stream",
     "text": [
      "STAGE:2023-10-06 20:51:59 524716:524716 ActivityProfilerController.cpp:311] Completed Stage: Warm Up\n"
     ]
    },
    {
     "name": "stdout",
     "output_type": "stream",
     "text": [
      "[epoch 1] train step: 1/34, loss: 3.6373510360717773\n",
      "[epoch 1] train step: 2/34, loss: 29.31656265258789\n",
      "[epoch 1] train step: 3/34, loss: 36.43174743652344\n",
      "[epoch 1] train step: 4/34, loss: 38.48322677612305\n",
      "[epoch 1] train step: 5/34, loss: 37.63285827636719\n",
      "[epoch 1] train step: 6/34, loss: 35.645751953125\n",
      "[epoch 1] train step: 7/34, loss: 35.27306365966797\n",
      "[epoch 1] train step: 8/34, loss: 33.95383071899414\n",
      "[epoch 1] train step: 9/34, loss: 32.769813537597656\n",
      "[epoch 1] train step: 10/34, loss: 31.391077041625977\n",
      "[epoch 1] train step: 11/34, loss: 29.97881317138672\n",
      "[epoch 1] train step: 12/34, loss: 28.616689682006836\n",
      "[epoch 1] train step: 13/34, loss: 27.3470401763916\n",
      "[epoch 1] train step: 14/34, loss: 26.27412986755371\n",
      "[epoch 1] train step: 15/34, loss: 25.32369041442871\n",
      "[epoch 1] train step: 16/34, loss: 24.477231979370117\n",
      "[epoch 1] train step: 17/34, loss: 23.74869728088379\n",
      "[epoch 1] train step: 18/34, loss: 23.068159103393555\n",
      "[epoch 1] train step: 19/34, loss: 22.411907196044922\n",
      "[epoch 1] train step: 20/34, loss: 21.81111717224121\n",
      "[epoch 1] train step: 21/34, loss: 21.243953704833984\n",
      "[epoch 1] train step: 22/34, loss: 20.72316551208496\n",
      "[epoch 1] train step: 23/34, loss: 20.272233963012695\n",
      "[epoch 1] train step: 24/34, loss: 19.808208465576172\n",
      "[epoch 1] train step: 25/34, loss: 19.351865768432617\n",
      "[epoch 1] train step: 26/34, loss: 18.9397029876709\n",
      "[epoch 1] train step: 27/34, loss: 18.550052642822266\n",
      "[epoch 1] train step: 28/34, loss: 18.1742000579834\n",
      "[epoch 1] train step: 29/34, loss: 17.811159133911133\n",
      "[epoch 1] train step: 30/34, loss: 17.45435905456543\n",
      "[epoch 1] train step: 31/34, loss: 17.123611450195312\n",
      "[epoch 1] train step: 32/34, loss: 16.836368560791016\n",
      "[epoch 1] train step: 33/34, loss: 16.552940368652344\n",
      "[epoch 1] train step: 34/34, loss: 16.296091079711914\n",
      "[epoch 1] valid step: 1/4, loss: 7.081148147583008\n",
      "[epoch 1] valid step: 2/4, loss: 7.215160369873047\n",
      "[epoch 1] valid step: 3/4, loss: 7.252109050750732\n",
      "[epoch 1] valid step: 4/4, loss: 7.246124744415283\n"
     ]
    },
    {
     "name": "stderr",
     "output_type": "stream",
     "text": [
      "100%|██████████| 15/15 [00:05<00:00,  2.71it/s]\n"
     ]
    },
    {
     "name": "stdout",
     "output_type": "stream",
     "text": [
      "[epoch 1] mean perplexity: 46.49623289629191\n"
     ]
    },
    {
     "name": "stderr",
     "output_type": "stream",
     "text": [
      "STAGE:2023-10-06 20:52:41 524716:524716 ActivityProfilerController.cpp:317] Completed Stage: Collection\n",
      "STAGE:2023-10-06 20:52:41 524716:524716 ActivityProfilerController.cpp:321] Completed Stage: Post Processing\n"
     ]
    }
   ],
   "source": [
    "num_epochs = 1\n",
    "\n",
    "with torch.profiler.profile(with_stack=True) as prof:\n",
    "    for epoch in range(num_epochs):\n",
    "        metric = evaluate.load(\"perplexity\")\n",
    "\n",
    "        model.train()\n",
    "        loss_per_epoch = 0\n",
    "        for step, batch in enumerate(train_dataloader):\n",
    "            batch = {k: v.to(device) for k, v in batch.items()}\n",
    "            outputs = model(**batch)\n",
    "            loss = outputs.loss\n",
    "            loss_per_epoch += loss\n",
    "            loss.backward()\n",
    "            optimizer.step()\n",
    "            optimizer.zero_grad()\n",
    "            print(f\"[epoch {epoch+1}] train step: {step + 1}/{len(train_dataloader)}, loss: {loss_per_epoch / (step + 1)}\")\n",
    "\n",
    "        model.eval()\n",
    "        loss_per_epoch = 0\n",
    "        for step, batch in enumerate(valid_dataloader):\n",
    "            batch = {k: v.to(device) for k, v in batch.items()}\n",
    "            with torch.no_grad():\n",
    "                outputs = model(**batch)\n",
    "            loss_per_epoch += outputs.loss\n",
    "            print(f\"[epoch {epoch+1}] valid step: {step + 1}/{len(valid_dataloader)}, loss: {loss_per_epoch / (step + 1)}\")\n",
    "            logits = outputs.logits\n",
    "            predictions = torch.argmax(logits, dim=-1)\n",
    "            metric.add_batch(predictions=tokenizer.batch_decode(predictions))\n",
    "\n",
    "        metric = metric.compute(model_id=model_name)\n",
    "        print(f\"[epoch {epoch+1}] mean perplexity: {metric['mean_perplexity']}\")"
   ]
  },
  {
   "cell_type": "code",
   "execution_count": 12,
   "metadata": {},
   "outputs": [
    {
     "name": "stdout",
     "output_type": "stream",
     "text": [
      "-------------------------------------------------------  ------------  ------------  ------------  ------------  ------------  ------------  ------------  ------------  ------------  ------------  \n",
      "                                                   Name    Self CPU %      Self CPU   CPU total %     CPU total  CPU time avg     Self CUDA   Self CUDA %    CUDA total  CUDA time avg    # of Calls  \n",
      "-------------------------------------------------------  ------------  ------------  ------------  ------------  ------------  ------------  ------------  ------------  ------------  ------------  \n",
      "                                       cudaLaunchKernel        40.31%       15.464s        40.31%       15.464s     187.801us        2.296s         7.24%        2.335s      28.354us         82345  \n",
      "                                        cudaMemcpyAsync        18.12%        6.951s        18.12%        6.951s       2.323ms      59.036ms         0.19%      59.036ms      19.725us          2993  \n",
      "                                  cudaStreamSynchronize        14.57%        5.588s        14.57%        5.588s       6.558ms     902.000us         0.00%       1.123ms       1.318us           852  \n",
      "                                         aten::uniform_         5.89%        2.260s         5.89%        2.260s      11.709ms       0.000us         0.00%       0.000us       0.000us           193  \n",
      "                                               cudaFree         5.64%        2.162s         5.64%        2.162s     720.706ms       0.000us         0.00%       0.000us       0.000us             3  \n",
      "                                          aten::normal_         5.27%        2.022s         5.27%        2.022s        1.011s       0.000us         0.00%       0.000us       0.000us             2  \n",
      "                                        cudaMemsetAsync         3.66%        1.403s         3.66%        1.403s     150.287us     387.176ms         1.22%     415.845ms      44.542us          9336  \n",
      "                                                INVALID         2.13%     817.531ms         2.13%     817.531ms      69.002us     304.563ms         0.96%     304.563ms      25.706us         11848  \n",
      "                                              aten::mul         0.98%     375.053ms        19.35%        7.423s     369.104us        1.810s         5.71%        2.333s     115.981us         20112  \n",
      "                               aten::embedding_backward         0.90%     345.490ms        15.08%        5.786s     170.183ms       0.000us         0.00%      64.060ms       1.884ms            34  \n",
      "                                         SliceBackward0         0.62%     239.187ms         8.46%        3.244s       1.289ms       0.000us         0.00%     631.375ms     250.944us          2516  \n",
      "                                            aten::addmm         0.58%     223.052ms         6.33%        2.430s     477.609us        4.637s        14.62%        5.025s     987.670us          5088  \n",
      "                                        SelectBackward0         0.35%     135.550ms         2.67%        1.026s     419.163us       0.000us         0.00%     270.795ms     110.619us          2448  \n",
      "                              Optimizer.step#AdamW.step         0.33%     128.423ms         0.76%     292.636ms       8.607ms       0.000us         0.00%     782.346ms      23.010ms            34  \n",
      "                                              aten::add         0.28%     106.763ms         2.76%        1.060s     126.394us     588.000ms         1.85%     676.472ms      80.648us          8388  \n",
      "-------------------------------------------------------  ------------  ------------  ------------  ------------  ------------  ------------  ------------  ------------  ------------  ------------  \n",
      "Self CPU time total: 38.363s\n",
      "Self CUDA time total: 31.713s\n",
      "\n"
     ]
    }
   ],
   "source": [
    "print(prof.key_averages(group_by_stack_n=3).table(sort_by='self_cpu_time_total', row_limit=15))"
   ]
  }
 ],
 "metadata": {
  "kernelspec": {
   "display_name": "base",
   "language": "python",
   "name": "python3"
  },
  "language_info": {
   "codemirror_mode": {
    "name": "ipython",
    "version": 3
   },
   "file_extension": ".py",
   "mimetype": "text/x-python",
   "name": "python",
   "nbconvert_exporter": "python",
   "pygments_lexer": "ipython3",
   "version": "3.10.12"
  },
  "orig_nbformat": 4
 },
 "nbformat": 4,
 "nbformat_minor": 2
}
